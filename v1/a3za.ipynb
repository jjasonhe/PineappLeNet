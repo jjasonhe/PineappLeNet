{
 "cells": [
  {
   "cell_type": "markdown",
   "metadata": {},
   "source": [
    "# a3za\n",
    "\n",
    "### STATUS:\n",
    "- **PRAISE**: finally got importing vgg16 to work great (PTL, seriously!!)\n",
    " - https://github.com/pierluigiferrari/fcn8s_tensorflow#download-pre-trained-vgg-16\n",
    "- **ISSUE**: when I try to see how many examples are in my train_dataset, there seems to be way more than expected (and possibly repeating forever)\n",
    " - **SOLVED**: iterator.get_next() can't go in a while loop; it needs to be part of the graph\n",
    "- **ISSUE**: I don't think the iterator + feed_dict is the correct combination; I'd like to put the iterator in the graph and not feed, but need to figure out how to set values that are part of the vgg16 graph\n",
    "- **ISSUE**: it would be nice to see the vgg16 graph in TensorBoard (well, the whole thing in TensorBoard, really)\n",
    "\n",
    "### INFO:\n",
    "- Train dataset has 91154 examples\n",
    "- Val dataset has 12750 examples\n",
    "- Test dataset has 24378 examples"
   ]
  },
  {
   "cell_type": "code",
   "execution_count": 1,
   "metadata": {},
   "outputs": [
    {
     "name": "stderr",
     "output_type": "stream",
     "text": [
      "/home/noodles/.conda/envs/turntable/lib/python3.6/site-packages/h5py/__init__.py:36: FutureWarning: Conversion of the second argument of issubdtype from `float` to `np.floating` is deprecated. In future, it will be treated as `np.float64 == np.dtype(float).type`.\n",
      "  from ._conv import register_converters as _register_converters\n"
     ]
    }
   ],
   "source": [
    "import os\n",
    "import numpy as np\n",
    "import tensorflow as wtf\n",
    "import data_utils as du\n",
    "from fcn8 import FCN8s\n",
    "from helpers.visualization_utils import print_segmentation_onto_image, create_video_from_images\n",
    "from math import ceil"
   ]
  },
  {
   "cell_type": "code",
   "execution_count": 2,
   "metadata": {},
   "outputs": [],
   "source": [
    "BATCH_SIZE = 16\n",
    "EPOCHS = 1\n",
    "\n",
    "num_train, num_val, num_test = 70, 10, 20\n",
    "train_data,val_data,test_data = du.create_dicts(num_train, num_val, num_test)\n",
    "\n",
    "train_dataset = du.create_dataset_fcn8('train', train_data)\n",
    "train_dataset = train_dataset.shuffle(2000)\n",
    "train_dataset = train_dataset.batch(BATCH_SIZE)\n",
    "train_dataset = train_dataset.repeat(EPOCHS)\n",
    "train_iterator = train_dataset.make_one_shot_iterator()\n",
    "\n",
    "val_dataset = du.create_dataset_fcn8('val', val_data)\n",
    "val_dataset = val_dataset.batch(BATCH_SIZE)\n",
    "val_iterator = val_dataset.make_one_shot_iterator()"
   ]
  },
  {
   "cell_type": "code",
   "execution_count": 3,
   "metadata": {
    "scrolled": false
   },
   "outputs": [
    {
     "name": "stdout",
     "output_type": "stream",
     "text": [
      "TensorFlow Version: 1.7.0\n",
      "INFO:tensorflow:Restoring parameters from b'vgg16/variables/variables'\n",
      "WARNING:tensorflow:From /home/noodles/.conda/envs/turntable/lib/python3.6/site-packages/tensorflow/contrib/learn/python/learn/datasets/base.py:198: retry (from tensorflow.contrib.learn.python.learn.datasets.base) is deprecated and will be removed in a future version.\n",
      "Instructions for updating:\n",
      "Use the retry module or similar alternatives.\n"
     ]
    }
   ],
   "source": [
    "model = FCN8s(model_load_dir=None,\n",
    "              tags=None,\n",
    "              vgg16_dir='vgg16',\n",
    "              num_classes=1,\n",
    "#               variables_load_dir='vgg16/variables',\n",
    "              variables_load_dir=None,\n",
    "              train_iterator=train_iterator,\n",
    "              val_iterator=val_iterator)"
   ]
  },
  {
   "cell_type": "code",
   "execution_count": 4,
   "metadata": {
    "scrolled": false
   },
   "outputs": [
    {
     "name": "stdout",
     "output_type": "stream",
     "text": [
      "Default GPU Device: /device:GPU:0\n",
      "Epoch 1/1:  24%|██▍       | 1383/5698 [33:35<1:44:47,  1.46s/it, loss=9.69e-07, learning rate=1e-05]"
     ]
    },
    {
     "ename": "KeyboardInterrupt",
     "evalue": "",
     "output_type": "error",
     "traceback": [
      "\u001b[0;31m---------------------------------------------------------------------------\u001b[0m",
      "\u001b[0;31mKeyboardInterrupt\u001b[0m                         Traceback (most recent call last)",
      "\u001b[0;32m<ipython-input-4-f01ad4ba05a0>\u001b[0m in \u001b[0;36m<module>\u001b[0;34m()\u001b[0m\n\u001b[1;32m     30\u001b[0m             \u001b[0msummaries_dir\u001b[0m\u001b[0;34m=\u001b[0m\u001b[0;34m'tensorboard_log/a3za'\u001b[0m\u001b[0;34m,\u001b[0m\u001b[0;34m\u001b[0m\u001b[0m\n\u001b[1;32m     31\u001b[0m             \u001b[0msummaries_name\u001b[0m\u001b[0;34m=\u001b[0m\u001b[0;34m'configuration_01'\u001b[0m\u001b[0;34m,\u001b[0m\u001b[0;34m\u001b[0m\u001b[0m\n\u001b[0;32m---> 32\u001b[0;31m             training_loss_display_averaging=3)\n\u001b[0m",
      "\u001b[0;32m~/PineappLeNet/fcn8.py\u001b[0m in \u001b[0;36mtrain\u001b[0;34m(self, epochs, steps_per_epoch, learning_rate_schedule, keep_prob, l2_regularization, eval_frequency, val_steps, metrics, save_during_training, save_dir, save_best_only, save_tags, save_name, save_frequency, saver, monitor, record_summaries, summaries_frequency, summaries_dir, summaries_name, training_loss_display_averaging)\u001b[0m\n\u001b[1;32m    586\u001b[0m                                                                             \u001b[0mself\u001b[0m\u001b[0;34m.\u001b[0m\u001b[0mlearning_rate\u001b[0m\u001b[0;34m:\u001b[0m \u001b[0mlearning_rate\u001b[0m\u001b[0;34m,\u001b[0m\u001b[0;34m\u001b[0m\u001b[0m\n\u001b[1;32m    587\u001b[0m                                                                             \u001b[0mself\u001b[0m\u001b[0;34m.\u001b[0m\u001b[0mkeep_prob\u001b[0m\u001b[0;34m:\u001b[0m \u001b[0mkeep_prob\u001b[0m\u001b[0;34m,\u001b[0m\u001b[0;34m\u001b[0m\u001b[0m\n\u001b[0;32m--> 588\u001b[0;31m                                                                             self.l2_regularization_rate: l2_regularization})\n\u001b[0m\u001b[1;32m    589\u001b[0m \u001b[0;34m\u001b[0m\u001b[0m\n\u001b[1;32m    590\u001b[0m                 \u001b[0mself\u001b[0m\u001b[0;34m.\u001b[0m\u001b[0mvariables_updated\u001b[0m \u001b[0;34m=\u001b[0m \u001b[0;32mTrue\u001b[0m\u001b[0;34m\u001b[0m\u001b[0m\n",
      "\u001b[0;32m~/.conda/envs/turntable/lib/python3.6/site-packages/tensorflow/python/client/session.py\u001b[0m in \u001b[0;36mrun\u001b[0;34m(self, fetches, feed_dict, options, run_metadata)\u001b[0m\n\u001b[1;32m    903\u001b[0m     \u001b[0;32mtry\u001b[0m\u001b[0;34m:\u001b[0m\u001b[0;34m\u001b[0m\u001b[0m\n\u001b[1;32m    904\u001b[0m       result = self._run(None, fetches, feed_dict, options_ptr,\n\u001b[0;32m--> 905\u001b[0;31m                          run_metadata_ptr)\n\u001b[0m\u001b[1;32m    906\u001b[0m       \u001b[0;32mif\u001b[0m \u001b[0mrun_metadata\u001b[0m\u001b[0;34m:\u001b[0m\u001b[0;34m\u001b[0m\u001b[0m\n\u001b[1;32m    907\u001b[0m         \u001b[0mproto_data\u001b[0m \u001b[0;34m=\u001b[0m \u001b[0mtf_session\u001b[0m\u001b[0;34m.\u001b[0m\u001b[0mTF_GetBuffer\u001b[0m\u001b[0;34m(\u001b[0m\u001b[0mrun_metadata_ptr\u001b[0m\u001b[0;34m)\u001b[0m\u001b[0;34m\u001b[0m\u001b[0m\n",
      "\u001b[0;32m~/.conda/envs/turntable/lib/python3.6/site-packages/tensorflow/python/client/session.py\u001b[0m in \u001b[0;36m_run\u001b[0;34m(self, handle, fetches, feed_dict, options, run_metadata)\u001b[0m\n\u001b[1;32m   1138\u001b[0m     \u001b[0;32mif\u001b[0m \u001b[0mfinal_fetches\u001b[0m \u001b[0;32mor\u001b[0m \u001b[0mfinal_targets\u001b[0m \u001b[0;32mor\u001b[0m \u001b[0;34m(\u001b[0m\u001b[0mhandle\u001b[0m \u001b[0;32mand\u001b[0m \u001b[0mfeed_dict_tensor\u001b[0m\u001b[0;34m)\u001b[0m\u001b[0;34m:\u001b[0m\u001b[0;34m\u001b[0m\u001b[0m\n\u001b[1;32m   1139\u001b[0m       results = self._do_run(handle, final_targets, final_fetches,\n\u001b[0;32m-> 1140\u001b[0;31m                              feed_dict_tensor, options, run_metadata)\n\u001b[0m\u001b[1;32m   1141\u001b[0m     \u001b[0;32melse\u001b[0m\u001b[0;34m:\u001b[0m\u001b[0;34m\u001b[0m\u001b[0m\n\u001b[1;32m   1142\u001b[0m       \u001b[0mresults\u001b[0m \u001b[0;34m=\u001b[0m \u001b[0;34m[\u001b[0m\u001b[0;34m]\u001b[0m\u001b[0;34m\u001b[0m\u001b[0m\n",
      "\u001b[0;32m~/.conda/envs/turntable/lib/python3.6/site-packages/tensorflow/python/client/session.py\u001b[0m in \u001b[0;36m_do_run\u001b[0;34m(self, handle, target_list, fetch_list, feed_dict, options, run_metadata)\u001b[0m\n\u001b[1;32m   1319\u001b[0m     \u001b[0;32mif\u001b[0m \u001b[0mhandle\u001b[0m \u001b[0;32mis\u001b[0m \u001b[0;32mNone\u001b[0m\u001b[0;34m:\u001b[0m\u001b[0;34m\u001b[0m\u001b[0m\n\u001b[1;32m   1320\u001b[0m       return self._do_call(_run_fn, feeds, fetches, targets, options,\n\u001b[0;32m-> 1321\u001b[0;31m                            run_metadata)\n\u001b[0m\u001b[1;32m   1322\u001b[0m     \u001b[0;32melse\u001b[0m\u001b[0;34m:\u001b[0m\u001b[0;34m\u001b[0m\u001b[0m\n\u001b[1;32m   1323\u001b[0m       \u001b[0;32mreturn\u001b[0m \u001b[0mself\u001b[0m\u001b[0;34m.\u001b[0m\u001b[0m_do_call\u001b[0m\u001b[0;34m(\u001b[0m\u001b[0m_prun_fn\u001b[0m\u001b[0;34m,\u001b[0m \u001b[0mhandle\u001b[0m\u001b[0;34m,\u001b[0m \u001b[0mfeeds\u001b[0m\u001b[0;34m,\u001b[0m \u001b[0mfetches\u001b[0m\u001b[0;34m)\u001b[0m\u001b[0;34m\u001b[0m\u001b[0m\n",
      "\u001b[0;32m~/.conda/envs/turntable/lib/python3.6/site-packages/tensorflow/python/client/session.py\u001b[0m in \u001b[0;36m_do_call\u001b[0;34m(self, fn, *args)\u001b[0m\n\u001b[1;32m   1325\u001b[0m   \u001b[0;32mdef\u001b[0m \u001b[0m_do_call\u001b[0m\u001b[0;34m(\u001b[0m\u001b[0mself\u001b[0m\u001b[0;34m,\u001b[0m \u001b[0mfn\u001b[0m\u001b[0;34m,\u001b[0m \u001b[0;34m*\u001b[0m\u001b[0margs\u001b[0m\u001b[0;34m)\u001b[0m\u001b[0;34m:\u001b[0m\u001b[0;34m\u001b[0m\u001b[0m\n\u001b[1;32m   1326\u001b[0m     \u001b[0;32mtry\u001b[0m\u001b[0;34m:\u001b[0m\u001b[0;34m\u001b[0m\u001b[0m\n\u001b[0;32m-> 1327\u001b[0;31m       \u001b[0;32mreturn\u001b[0m \u001b[0mfn\u001b[0m\u001b[0;34m(\u001b[0m\u001b[0;34m*\u001b[0m\u001b[0margs\u001b[0m\u001b[0;34m)\u001b[0m\u001b[0;34m\u001b[0m\u001b[0m\n\u001b[0m\u001b[1;32m   1328\u001b[0m     \u001b[0;32mexcept\u001b[0m \u001b[0merrors\u001b[0m\u001b[0;34m.\u001b[0m\u001b[0mOpError\u001b[0m \u001b[0;32mas\u001b[0m \u001b[0me\u001b[0m\u001b[0;34m:\u001b[0m\u001b[0;34m\u001b[0m\u001b[0m\n\u001b[1;32m   1329\u001b[0m       \u001b[0mmessage\u001b[0m \u001b[0;34m=\u001b[0m \u001b[0mcompat\u001b[0m\u001b[0;34m.\u001b[0m\u001b[0mas_text\u001b[0m\u001b[0;34m(\u001b[0m\u001b[0me\u001b[0m\u001b[0;34m.\u001b[0m\u001b[0mmessage\u001b[0m\u001b[0;34m)\u001b[0m\u001b[0;34m\u001b[0m\u001b[0m\n",
      "\u001b[0;32m~/.conda/envs/turntable/lib/python3.6/site-packages/tensorflow/python/client/session.py\u001b[0m in \u001b[0;36m_run_fn\u001b[0;34m(feed_dict, fetch_list, target_list, options, run_metadata)\u001b[0m\n\u001b[1;32m   1310\u001b[0m       \u001b[0mself\u001b[0m\u001b[0;34m.\u001b[0m\u001b[0m_extend_graph\u001b[0m\u001b[0;34m(\u001b[0m\u001b[0;34m)\u001b[0m\u001b[0;34m\u001b[0m\u001b[0m\n\u001b[1;32m   1311\u001b[0m       return self._call_tf_sessionrun(\n\u001b[0;32m-> 1312\u001b[0;31m           options, feed_dict, fetch_list, target_list, run_metadata)\n\u001b[0m\u001b[1;32m   1313\u001b[0m \u001b[0;34m\u001b[0m\u001b[0m\n\u001b[1;32m   1314\u001b[0m     \u001b[0;32mdef\u001b[0m \u001b[0m_prun_fn\u001b[0m\u001b[0;34m(\u001b[0m\u001b[0mhandle\u001b[0m\u001b[0;34m,\u001b[0m \u001b[0mfeed_dict\u001b[0m\u001b[0;34m,\u001b[0m \u001b[0mfetch_list\u001b[0m\u001b[0;34m)\u001b[0m\u001b[0;34m:\u001b[0m\u001b[0;34m\u001b[0m\u001b[0m\n",
      "\u001b[0;32m~/.conda/envs/turntable/lib/python3.6/site-packages/tensorflow/python/client/session.py\u001b[0m in \u001b[0;36m_call_tf_sessionrun\u001b[0;34m(self, options, feed_dict, fetch_list, target_list, run_metadata)\u001b[0m\n\u001b[1;32m   1418\u001b[0m         return tf_session.TF_Run(\n\u001b[1;32m   1419\u001b[0m             \u001b[0mself\u001b[0m\u001b[0;34m.\u001b[0m\u001b[0m_session\u001b[0m\u001b[0;34m,\u001b[0m \u001b[0moptions\u001b[0m\u001b[0;34m,\u001b[0m \u001b[0mfeed_dict\u001b[0m\u001b[0;34m,\u001b[0m \u001b[0mfetch_list\u001b[0m\u001b[0;34m,\u001b[0m \u001b[0mtarget_list\u001b[0m\u001b[0;34m,\u001b[0m\u001b[0;34m\u001b[0m\u001b[0m\n\u001b[0;32m-> 1420\u001b[0;31m             status, run_metadata)\n\u001b[0m\u001b[1;32m   1421\u001b[0m \u001b[0;34m\u001b[0m\u001b[0m\n\u001b[1;32m   1422\u001b[0m   \u001b[0;32mdef\u001b[0m \u001b[0m_call_tf_sessionprun\u001b[0m\u001b[0;34m(\u001b[0m\u001b[0mself\u001b[0m\u001b[0;34m,\u001b[0m \u001b[0mhandle\u001b[0m\u001b[0;34m,\u001b[0m \u001b[0mfeed_dict\u001b[0m\u001b[0;34m,\u001b[0m \u001b[0mfetch_list\u001b[0m\u001b[0;34m)\u001b[0m\u001b[0;34m:\u001b[0m\u001b[0;34m\u001b[0m\u001b[0m\n",
      "\u001b[0;31mKeyboardInterrupt\u001b[0m: "
     ]
    }
   ],
   "source": [
    "epochs = 1\n",
    "num_train_images = 91154\n",
    "num_val_images = 12750\n",
    "\n",
    "def learning_rate_schedule(step):\n",
    "    if step <= 10000: return 0.00001\n",
    "    elif 10000 < step <= 20000: return 0.000001\n",
    "    elif 20000 < step <= 40000: return 0.0000003\n",
    "    else: return 0.0000001\n",
    "\n",
    "model.train(epochs=epochs,\n",
    "            steps_per_epoch=ceil(num_train_images/BATCH_SIZE),\n",
    "            learning_rate_schedule=learning_rate_schedule,\n",
    "            keep_prob=0.5,\n",
    "            l2_regularization=0.0,\n",
    "#             eval_dataset='val',\n",
    "            eval_frequency=2,\n",
    "            val_steps=ceil(num_val_images/BATCH_SIZE),\n",
    "            metrics={'loss', 'mean_iou', 'accuracy'},\n",
    "            save_during_training=True,\n",
    "            save_dir='a3za_model',\n",
    "            save_best_only=True,\n",
    "            save_tags=['default'],\n",
    "            save_name='(batch-size-16)',\n",
    "            save_frequency=2,\n",
    "            saver='saved_model',\n",
    "            monitor='loss',\n",
    "            record_summaries=True,\n",
    "            summaries_frequency=10,\n",
    "            summaries_dir='tensorboard_log/a3za',\n",
    "            summaries_name='configuration_01',\n",
    "            training_loss_display_averaging=3)"
   ]
  },
  {
   "cell_type": "markdown",
   "metadata": {},
   "source": [
    "## Number of Examples\n",
    "Used to count number of examples in train, val, and test datasets. Set \"mode\" and run."
   ]
  },
  {
   "cell_type": "code",
   "execution_count": null,
   "metadata": {
    "scrolled": true
   },
   "outputs": [],
   "source": [
    "wtf.reset_default_graph()\n",
    "\n",
    "EPOCHS = 1\n",
    "BATCH_SIZE = 1\n",
    "\n",
    "num_train, num_val, num_test = 70, 10, 20\n",
    "train_data,val_data,test_data = du.create_dicts(num_train, num_val, num_test)\n",
    "\n",
    "mode = 'val'\n",
    "if mode=='train':\n",
    "    patients = train_data\n",
    "elif mode=='val':\n",
    "    patients = val_data\n",
    "elif mode=='test':\n",
    "    patients = test_data\n",
    "\n",
    "dataset = du.create_dataset_fcn8(mode, patients)\n",
    "dataset = dataset.batch(3000)\n",
    "dataset = dataset.repeat(EPOCHS)\n",
    "iterator = dataset.make_one_shot_iterator()\n",
    "x, y = iterator.get_next()\n",
    "\n",
    "with wtf.Session() as sess:\n",
    "    num_ex = 0\n",
    "    try:\n",
    "        while True:\n",
    "            y_np = sess.run(y)\n",
    "            num_ex += len(y_np)\n",
    "            print(\"{}\".format(num_ex))\n",
    "    except wtf.errors.OutOfRangeError:\n",
    "        print(\"{}\".format(num_ex))"
   ]
  },
  {
   "cell_type": "markdown",
   "metadata": {},
   "source": [
    "## FCN8 Implementation"
   ]
  },
  {
   "cell_type": "code",
   "execution_count": null,
   "metadata": {},
   "outputs": [],
   "source": [
    "wtf.reset_default_graph()\n",
    "\n",
    "EPOCHS = 1\n",
    "BATCH_SIZE = 50\n",
    "\n",
    "num_train, num_val, num_test = 70, 10, 20\n",
    "train_data,val_data,test_data = du.create_dicts(num_train, num_val, num_test)\n",
    "\n",
    "train_dataset = du.create_dataset_fcn8('train', train_data)\n",
    "train_dataset = train_dataset.shuffle(2000)\n",
    "train_dataset = train_dataset.batch(BATCH_SIZE)\n",
    "train_dataset = train_dataset.repeat(EPOCHS)\n",
    "iterator = train_dataset.make_one_shot_iterator()"
   ]
  },
  {
   "cell_type": "code",
   "execution_count": null,
   "metadata": {},
   "outputs": [],
   "source": [
    "VGG_PATH = 'vgg16'\n",
    "IMAGE_SHAPE = (192, 224)\n",
    "DROPOUT = 0.75\n",
    "\n",
    "X_batch, gt_batch = iterator.get_next()\n",
    "correct_label = wtf.placeholder(wtf.float32, [None, IMAGE_SHAPE[0], IMAGE_SHAPE[1], 1])\n",
    "#correct_label = gt_batch\n",
    "learning_rate = wtf.placeholder(wtf.float32)\n",
    "keep_prob = wtf.placeholder(wtf.float32)\n",
    "\n",
    "def load_vgg(sess, vgg_path):\n",
    "    model = wtf.saved_model.loader.load(sess, ['vgg16'], vgg_path)\n",
    "    graph = wtf.get_default_graph()\n",
    "    image_input = graph.get_tensor_by_name('image_input:0')\n",
    "    #image_input = X_batch\n",
    "    print(image_input)\n",
    "    keep_prob = graph.get_tensor_by_name('keep_prob:0')\n",
    "    layer3 = graph.get_tensor_by_name('layer3_out:0')\n",
    "    layer4 = graph.get_tensor_by_name('layer4_out:0')\n",
    "    layer7 = graph.get_tensor_by_name('layer7_out:0')\n",
    "    return image_input, keep_prob, layer3, layer4, layer7\n",
    "\n",
    "def layers(vgg_layer3_out, vgg_layer4_out, vgg_layer7_out, num_classes):\n",
    "    # Use a shorter variable name for simplicity\n",
    "    layer3, layer4, layer7 = vgg_layer3_out, vgg_layer4_out, vgg_layer7_out\n",
    "    # Apply 1x1 convolution in place of fully connected layer\n",
    "    fcn8 = wtf.layers.conv2d(layer7, filters=num_classes, kernel_size=1, name=\"fcn8\")\n",
    "    # Upsample fcn8 with size depth=(4096?) to match size of layer 4 so that we can add skip connection with 4th layer\n",
    "    fcn9 = wtf.layers.conv2d_transpose(fcn8, filters=layer4.get_shape().as_list()[-1],\n",
    "                                       kernel_size=4, strides=(2, 2), padding='SAME', name=\"fcn9\")\n",
    "    # Add a skip connection between current final layer fcn8 and 4th layer\n",
    "    fcn9_skip_connected = wtf.add(fcn9, layer4, name=\"fcn9_plus_vgg_layer4\")\n",
    "    # Upsample again\n",
    "    fcn10 = wtf.layers.conv2d_transpose(fcn9_skip_connected, filters=layer3.get_shape().as_list()[-1],\n",
    "                                        kernel_size=4, strides=(2, 2), padding='SAME', name=\"fcn10_conv2d\")\n",
    "    # Add skip connection\n",
    "    fcn10_skip_connected = wtf.add(fcn10, layer3, name=\"fcn10_plus_vgg_layer3\")\n",
    "    # Upsample again\n",
    "    fcn11 = wtf.layers.conv2d_transpose(fcn10_skip_connected, filters=num_classes,\n",
    "                                        kernel_size=16, strides=(8, 8), padding='SAME', name=\"fcn11\")\n",
    "    return fcn11\n",
    "\n",
    "def optimize_fn(nn_last_layer, correct_label, learning_rate, num_classes):\n",
    "    # Reshape 4D tensors to 2D, each row represents a pixel, each column a class\n",
    "    logits = wtf.reshape(nn_last_layer, (-1, num_classes), name=\"fcn_logits\")\n",
    "    correct_label_reshaped = wtf.reshape(correct_label, (-1, num_classes))\n",
    "    # Calculate distance from actual labels using cross entropy\n",
    "    cross_entropy = wtf.nn.softmax_cross_entropy_with_logits_v2(logits=logits, labels=correct_label_reshaped[:])\n",
    "    # Take mean for total loss\n",
    "    loss_op = wtf.reduce_mean(cross_entropy, name=\"fcn_loss\")\n",
    "    # The model implements this operation to find the weights/parameters that would yield correct pixel labels\n",
    "    train_op = wtf.train.AdamOptimizer(learning_rate=learning_rate).minimize(loss_op, name=\"fcn_train_op\")\n",
    "    return logits, train_op, loss_op\n",
    "\n",
    "def train_nn(sess, epochs, batch_size, train_op,\n",
    "             cross_entropy_loss, input_image,\n",
    "             correct_label, keep_prob, learning_rate):\n",
    "    keep_prob_value = 0.5\n",
    "    \n",
    "    learning_rate_value = 0.001\n",
    "    for epoch in range(epochs):\n",
    "        total_loss = 0\n",
    "        try:\n",
    "            while True:\n",
    "                X_batch_np, gt_batch_np = sess.run([X_batch, gt_batch])\n",
    "#                 X_batch, gt_batch = iterator.get_next()\n",
    "                loss, _ = sess.run([cross_entropy_loss, train_op],\n",
    "                                   feed_dict={input_image: X_batch_np, correct_label: gt_batch_np,\n",
    "                                              keep_prob: keep_prob_value, learning_rate: learning_rate_value})\n",
    "#                 loss, _ = sess.run([cross_entropy_loss, train_op],\n",
    "#                                    feed_dict={keep_prob: keep_prob_value, learning_rate:learning_rate_value})\n",
    "                total_loss += loss\n",
    "                print(\"Sanity check {}\".format(total_loss))\n",
    "        except wtf.errors.OutOfRangeError:\n",
    "            pass\n",
    "        print(\"EPOCH {} ...\".format(epoch + 1))\n",
    "        print(\"Loss = {:.3f}\".format(total_loss))\n",
    "        print()"
   ]
  },
  {
   "cell_type": "code",
   "execution_count": null,
   "metadata": {},
   "outputs": [],
   "source": [
    "def run():\n",
    "    with wtf.Session() as sess:\n",
    "        image_input, keep_prob, layer3, layer4, layer7 = load_vgg(sess, VGG_PATH)\n",
    "        model_output = layers(layer3, layer4, layer7, 1)\n",
    "        logits, train_op, cross_entropy_loss = optimize_fn(model_output, correct_label, learning_rate, 1)\n",
    "        sess.run(wtf.global_variables_initializer())\n",
    "        sess.run(wtf.local_variables_initializer())\n",
    "        \n",
    "        train_nn(sess, EPOCHS, BATCH_SIZE,\n",
    "                 train_op, cross_entropy_loss, image_input,\n",
    "                 correct_label, keep_prob, learning_rate)"
   ]
  },
  {
   "cell_type": "code",
   "execution_count": null,
   "metadata": {
    "scrolled": false
   },
   "outputs": [],
   "source": [
    "if __name__ == '__main__':\n",
    "    run()"
   ]
  },
  {
   "cell_type": "code",
   "execution_count": null,
   "metadata": {},
   "outputs": [],
   "source": []
  }
 ],
 "metadata": {
  "kernelspec": {
   "display_name": "Python 3",
   "language": "python",
   "name": "python3"
  },
  "language_info": {
   "codemirror_mode": {
    "name": "ipython",
    "version": 3
   },
   "file_extension": ".py",
   "mimetype": "text/x-python",
   "name": "python",
   "nbconvert_exporter": "python",
   "pygments_lexer": "ipython3",
   "version": "3.6.5"
  }
 },
 "nbformat": 4,
 "nbformat_minor": 2
}
