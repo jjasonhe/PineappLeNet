{
 "cells": [
  {
   "cell_type": "markdown",
   "metadata": {},
   "source": [
    "# a3za\n",
    "\n",
    "### STATUS:\n",
    "- PRAISE: finally got importing vgg16 to work great (PTL, seriously!!)\n",
    " - https://github.com/pierluigiferrari/fcn8s_tensorflow#download-pre-trained-vgg-16\n",
    "- ISSUE: when I try to see how many examples are in my train_dataset, there seems to be way more than expected (and possibly repeating forever)\n",
    "- ISSUE: I don't think the iterator + feed_dict is the correct combination; I'd like to put the iterator in the graph and not feed, but need to figure out how to set values that are part of the vgg16 graph\n",
    "- ISSUE: it would be nice to see the vgg16 graph in TensorBoard (well, the whole thing in TensorBoard, really)"
   ]
  },
  {
   "cell_type": "code",
   "execution_count": 1,
   "metadata": {},
   "outputs": [
    {
     "name": "stderr",
     "output_type": "stream",
     "text": [
      "/home/noodles/.conda/envs/turntable/lib/python3.6/site-packages/h5py/__init__.py:36: FutureWarning: Conversion of the second argument of issubdtype from `float` to `np.floating` is deprecated. In future, it will be treated as `np.float64 == np.dtype(float).type`.\n",
      "  from ._conv import register_converters as _register_converters\n"
     ]
    }
   ],
   "source": [
    "import os\n",
    "import numpy as np\n",
    "import tensorflow as wtf\n",
    "import data_utils as du"
   ]
  },
  {
   "cell_type": "code",
   "execution_count": 6,
   "metadata": {},
   "outputs": [],
   "source": [
    "wtf.reset_default_graph()\n",
    "\n",
    "EPOCHS = 1\n",
    "BATCH_SIZE = 1\n",
    "\n",
    "num_train, num_val, num_test = 70, 10, 20\n",
    "train_data,val_data,test_data = du.create_dicts(num_train, num_val, num_test)\n",
    "\n",
    "train_dataset = du.create_dataset_fcn8('train', train_data)\n",
    "# train_dataset = train_dataset.shuffle(2000)\n",
    "train_dataset = train_dataset.batch(BATCH_SIZE)\n",
    "train_dataset = train_dataset.repeat(EPOCHS)\n",
    "iterator = train_dataset.make_one_shot_iterator()"
   ]
  },
  {
   "cell_type": "code",
   "execution_count": 7,
   "metadata": {},
   "outputs": [],
   "source": [
    "VGG_PATH = 'vgg16'\n",
    "IMAGE_SHAPE = (192, 224)\n",
    "DROPOUT = 0.75\n",
    "\n",
    "X_batch, gt_batch = iterator.get_next()\n",
    "correct_label = gt_batch\n",
    "# correct_label = wtf.placeholder(wtf.float32, [None, IMAGE_SHAPE[0], IMAGE_SHAPE[1], 1])\n",
    "learning_rate = wtf.placeholder(wtf.float32)\n",
    "keep_prob = wtf.placeholder(wtf.float32)\n",
    "\n",
    "def load_vgg(sess, vgg_path):\n",
    "    model = wtf.saved_model.loader.load(sess, ['vgg16'], vgg_path)\n",
    "    graph = wtf.get_default_graph()\n",
    "    image_input = X_batch\n",
    "    image_input = graph.get_tensor_by_name('image_input:0')\n",
    "    keep_prob = graph.get_tensor_by_name('keep_prob:0')\n",
    "    layer3 = graph.get_tensor_by_name('layer3_out:0')\n",
    "    layer4 = graph.get_tensor_by_name('layer4_out:0')\n",
    "    layer7 = graph.get_tensor_by_name('layer7_out:0')\n",
    "    return image_input, keep_prob, layer3, layer4, layer7\n",
    "\n",
    "def layers(vgg_layer3_out, vgg_layer4_out, vgg_layer7_out, num_classes):\n",
    "    # Use a shorter variable name for simplicity\n",
    "    layer3, layer4, layer7 = vgg_layer3_out, vgg_layer4_out, vgg_layer7_out\n",
    "    # Apply 1x1 convolution in place of fully connected layer\n",
    "    fcn8 = wtf.layers.conv2d(layer7, filters=num_classes, kernel_size=1, name=\"fcn8\")\n",
    "    # Upsample fcn8 with size depth=(4096?) to match size of layer 4 so that we can add skip connection with 4th layer\n",
    "    fcn9 = wtf.layers.conv2d_transpose(fcn8, filters=layer4.get_shape().as_list()[-1],\n",
    "                                       kernel_size=4, strides=(2, 2), padding='SAME', name=\"fcn9\")\n",
    "    # Add a skip connection between current final layer fcn8 and 4th layer\n",
    "    fcn9_skip_connected = wtf.add(fcn9, layer4, name=\"fcn9_plus_vgg_layer4\")\n",
    "    # Upsample again\n",
    "    fcn10 = wtf.layers.conv2d_transpose(fcn9_skip_connected, filters=layer3.get_shape().as_list()[-1],\n",
    "                                        kernel_size=4, strides=(2, 2), padding='SAME', name=\"fcn10_conv2d\")\n",
    "    # Add skip connection\n",
    "    fcn10_skip_connected = wtf.add(fcn10, layer3, name=\"fcn10_plus_vgg_layer3\")\n",
    "    # Upsample again\n",
    "    fcn11 = wtf.layers.conv2d_transpose(fcn10_skip_connected, filters=num_classes,\n",
    "                                        kernel_size=16, strides=(8, 8), padding='SAME', name=\"fcn11\")\n",
    "    return fcn11\n",
    "\n",
    "def optimize_fn(nn_last_layer, correct_label, learning_rate, num_classes):\n",
    "    # Reshape 4D tensors to 2D, each row represents a pixel, each column a class\n",
    "    logits = wtf.reshape(nn_last_layer, (-1, num_classes), name=\"fcn_logits\")\n",
    "    correct_label_reshaped = wtf.reshape(correct_label, (-1, num_classes))\n",
    "    # Calculate distance from actual labels using cross entropy\n",
    "    cross_entropy = wtf.nn.softmax_cross_entropy_with_logits_v2(logits=logits, labels=correct_label_reshaped[:])\n",
    "    # Take mean for total loss\n",
    "    loss_op = wtf.reduce_mean(cross_entropy, name=\"fcn_loss\")\n",
    "    # The model implements this operation to find the weights/parameters that would yield correct pixel labels\n",
    "    train_op = wtf.train.AdamOptimizer(learning_rate=learning_rate).minimize(loss_op, name=\"fcn_train_op\")\n",
    "    return logits, train_op, loss_op\n",
    "\n",
    "def train_nn(sess, epochs, batch_size, train_op,\n",
    "             cross_entropy_loss, input_image,\n",
    "             correct_label, keep_prob, learning_rate):\n",
    "    keep_prob_value = 0.5\n",
    "    \n",
    "    learning_rate_value = 0.001\n",
    "    for epoch in range(epochs):\n",
    "        total_loss = 0\n",
    "        try:\n",
    "            while True:\n",
    "#                 X_batch, gt_batch = iterator.get_next()\n",
    "#                 loss, _ = sess.run([cross_entropy_loss, train_op],\n",
    "#                                    feed_dict={input_image: X_batch.eval(), correct_label: gt_batch.eval(),\n",
    "#                                               keep_prob: keep_prob_value, learning_rate:learning_rate_value})\n",
    "                loss, _ = sess.run([cross_entropy_loss, train_op],\n",
    "                                   feed_dict={keep_prob: keep_prob_value, learning_rate:learning_rate_value})\n",
    "                total_loss += loss\n",
    "        except wtf.errors.OutOfRangeError:\n",
    "            pass\n",
    "        # # # # # # # # # # # # # # # # # # # # # # # # # # # # # # # #\n",
    "        # Trying to determine how many examples are in train_dataset\n",
    "        # Remove when issue is fixed; num_ex should be ~100,000\n",
    "        # 70 sets * ~80 slices * 17 times = 95,200\n",
    "#         num_ex = 0\n",
    "#         while(1):\n",
    "#             X_batch, gt_batch = iterator.get_next()\n",
    "#             loss = 1\n",
    "#             num_ex += 1\n",
    "#             if num_ex % 1000 == 0:\n",
    "#                 print(\"{}\".format(num_ex))\n",
    "#             total_loss += loss\n",
    "        # # # # # # # # # # # # # # # # # # # # # # # # # # # # # # # #\n",
    "        print(\"EPOCH {} ...\".format(epoch + 1))\n",
    "        print(\"Loss = {:.3f}\".format(total_loss))\n",
    "        print()"
   ]
  },
  {
   "cell_type": "code",
   "execution_count": 8,
   "metadata": {},
   "outputs": [],
   "source": [
    "def run():\n",
    "    with wtf.Session() as sess:\n",
    "        image_input, keep_prob, layer3, layer4, layer7 = load_vgg(sess, VGG_PATH)\n",
    "        model_output = layers(layer3, layer4, layer7, 1)\n",
    "        logits, train_op, cross_entropy_loss = optimize_fn(model_output, correct_label, learning_rate, 1)\n",
    "        sess.run(wtf.global_variables_initializer())\n",
    "        sess.run(wtf.local_variables_initializer())\n",
    "        \n",
    "        train_nn(sess, 1, 1,\n",
    "                 train_op, cross_entropy_loss, image_input,\n",
    "                 correct_label, keep_prob, learning_rate)"
   ]
  },
  {
   "cell_type": "code",
   "execution_count": 9,
   "metadata": {
    "scrolled": false
   },
   "outputs": [
    {
     "name": "stdout",
     "output_type": "stream",
     "text": [
      "INFO:tensorflow:Restoring parameters from b'vgg16/variables/variables'\n"
     ]
    },
    {
     "ename": "NameError",
     "evalue": "name 'tf' is not defined",
     "output_type": "error",
     "traceback": [
      "\u001b[0;31m---------------------------------------------------------------------------\u001b[0m",
      "\u001b[0;31mInvalidArgumentError\u001b[0m                      Traceback (most recent call last)",
      "\u001b[0;32m~/.conda/envs/turntable/lib/python3.6/site-packages/tensorflow/python/client/session.py\u001b[0m in \u001b[0;36m_do_call\u001b[0;34m(self, fn, *args)\u001b[0m\n\u001b[1;32m   1326\u001b[0m     \u001b[0;32mtry\u001b[0m\u001b[0;34m:\u001b[0m\u001b[0;34m\u001b[0m\u001b[0m\n\u001b[0;32m-> 1327\u001b[0;31m       \u001b[0;32mreturn\u001b[0m \u001b[0mfn\u001b[0m\u001b[0;34m(\u001b[0m\u001b[0;34m*\u001b[0m\u001b[0margs\u001b[0m\u001b[0;34m)\u001b[0m\u001b[0;34m\u001b[0m\u001b[0m\n\u001b[0m\u001b[1;32m   1328\u001b[0m     \u001b[0;32mexcept\u001b[0m \u001b[0merrors\u001b[0m\u001b[0;34m.\u001b[0m\u001b[0mOpError\u001b[0m \u001b[0;32mas\u001b[0m \u001b[0me\u001b[0m\u001b[0;34m:\u001b[0m\u001b[0;34m\u001b[0m\u001b[0m\n",
      "\u001b[0;32m~/.conda/envs/turntable/lib/python3.6/site-packages/tensorflow/python/client/session.py\u001b[0m in \u001b[0;36m_run_fn\u001b[0;34m(feed_dict, fetch_list, target_list, options, run_metadata)\u001b[0m\n\u001b[1;32m   1311\u001b[0m       return self._call_tf_sessionrun(\n\u001b[0;32m-> 1312\u001b[0;31m           options, feed_dict, fetch_list, target_list, run_metadata)\n\u001b[0m\u001b[1;32m   1313\u001b[0m \u001b[0;34m\u001b[0m\u001b[0m\n",
      "\u001b[0;32m~/.conda/envs/turntable/lib/python3.6/site-packages/tensorflow/python/client/session.py\u001b[0m in \u001b[0;36m_call_tf_sessionrun\u001b[0;34m(self, options, feed_dict, fetch_list, target_list, run_metadata)\u001b[0m\n\u001b[1;32m   1419\u001b[0m             \u001b[0mself\u001b[0m\u001b[0;34m.\u001b[0m\u001b[0m_session\u001b[0m\u001b[0;34m,\u001b[0m \u001b[0moptions\u001b[0m\u001b[0;34m,\u001b[0m \u001b[0mfeed_dict\u001b[0m\u001b[0;34m,\u001b[0m \u001b[0mfetch_list\u001b[0m\u001b[0;34m,\u001b[0m \u001b[0mtarget_list\u001b[0m\u001b[0;34m,\u001b[0m\u001b[0;34m\u001b[0m\u001b[0m\n\u001b[0;32m-> 1420\u001b[0;31m             status, run_metadata)\n\u001b[0m\u001b[1;32m   1421\u001b[0m \u001b[0;34m\u001b[0m\u001b[0m\n",
      "\u001b[0;32m~/.conda/envs/turntable/lib/python3.6/site-packages/tensorflow/python/framework/errors_impl.py\u001b[0m in \u001b[0;36m__exit__\u001b[0;34m(self, type_arg, value_arg, traceback_arg)\u001b[0m\n\u001b[1;32m    515\u001b[0m             \u001b[0mcompat\u001b[0m\u001b[0;34m.\u001b[0m\u001b[0mas_text\u001b[0m\u001b[0;34m(\u001b[0m\u001b[0mc_api\u001b[0m\u001b[0;34m.\u001b[0m\u001b[0mTF_Message\u001b[0m\u001b[0;34m(\u001b[0m\u001b[0mself\u001b[0m\u001b[0;34m.\u001b[0m\u001b[0mstatus\u001b[0m\u001b[0;34m.\u001b[0m\u001b[0mstatus\u001b[0m\u001b[0;34m)\u001b[0m\u001b[0;34m)\u001b[0m\u001b[0;34m,\u001b[0m\u001b[0;34m\u001b[0m\u001b[0m\n\u001b[0;32m--> 516\u001b[0;31m             c_api.TF_GetCode(self.status.status))\n\u001b[0m\u001b[1;32m    517\u001b[0m     \u001b[0;31m# Delete the underlying status object from memory otherwise it stays alive\u001b[0m\u001b[0;34m\u001b[0m\u001b[0;34m\u001b[0m\u001b[0m\n",
      "\u001b[0;31mInvalidArgumentError\u001b[0m: You must feed a value for placeholder tensor 'image_input' with dtype float\n\t [[Node: image_input = Placeholder[dtype=DT_FLOAT, shape=[], _device=\"/job:localhost/replica:0/task:0/device:GPU:0\"]()]]",
      "\nDuring handling of the above exception, another exception occurred:\n",
      "\u001b[0;31mInvalidArgumentError\u001b[0m                      Traceback (most recent call last)",
      "\u001b[0;32m<ipython-input-7-1264ee892e98>\u001b[0m in \u001b[0;36mtrain_nn\u001b[0;34m(sess, epochs, batch_size, train_op, cross_entropy_loss, input_image, correct_label, keep_prob, learning_rate)\u001b[0m\n\u001b[1;32m     68\u001b[0m                 loss, _ = sess.run([cross_entropy_loss, train_op],\n\u001b[0;32m---> 69\u001b[0;31m                                    feed_dict={keep_prob: keep_prob_value, learning_rate:learning_rate_value})\n\u001b[0m\u001b[1;32m     70\u001b[0m                 \u001b[0mtotal_loss\u001b[0m \u001b[0;34m+=\u001b[0m \u001b[0mloss\u001b[0m\u001b[0;34m\u001b[0m\u001b[0m\n",
      "\u001b[0;32m~/.conda/envs/turntable/lib/python3.6/site-packages/tensorflow/python/client/session.py\u001b[0m in \u001b[0;36mrun\u001b[0;34m(self, fetches, feed_dict, options, run_metadata)\u001b[0m\n\u001b[1;32m    904\u001b[0m       result = self._run(None, fetches, feed_dict, options_ptr,\n\u001b[0;32m--> 905\u001b[0;31m                          run_metadata_ptr)\n\u001b[0m\u001b[1;32m    906\u001b[0m       \u001b[0;32mif\u001b[0m \u001b[0mrun_metadata\u001b[0m\u001b[0;34m:\u001b[0m\u001b[0;34m\u001b[0m\u001b[0m\n",
      "\u001b[0;32m~/.conda/envs/turntable/lib/python3.6/site-packages/tensorflow/python/client/session.py\u001b[0m in \u001b[0;36m_run\u001b[0;34m(self, handle, fetches, feed_dict, options, run_metadata)\u001b[0m\n\u001b[1;32m   1139\u001b[0m       results = self._do_run(handle, final_targets, final_fetches,\n\u001b[0;32m-> 1140\u001b[0;31m                              feed_dict_tensor, options, run_metadata)\n\u001b[0m\u001b[1;32m   1141\u001b[0m     \u001b[0;32melse\u001b[0m\u001b[0;34m:\u001b[0m\u001b[0;34m\u001b[0m\u001b[0m\n",
      "\u001b[0;32m~/.conda/envs/turntable/lib/python3.6/site-packages/tensorflow/python/client/session.py\u001b[0m in \u001b[0;36m_do_run\u001b[0;34m(self, handle, target_list, fetch_list, feed_dict, options, run_metadata)\u001b[0m\n\u001b[1;32m   1320\u001b[0m       return self._do_call(_run_fn, feeds, fetches, targets, options,\n\u001b[0;32m-> 1321\u001b[0;31m                            run_metadata)\n\u001b[0m\u001b[1;32m   1322\u001b[0m     \u001b[0;32melse\u001b[0m\u001b[0;34m:\u001b[0m\u001b[0;34m\u001b[0m\u001b[0m\n",
      "\u001b[0;32m~/.conda/envs/turntable/lib/python3.6/site-packages/tensorflow/python/client/session.py\u001b[0m in \u001b[0;36m_do_call\u001b[0;34m(self, fn, *args)\u001b[0m\n\u001b[1;32m   1339\u001b[0m           \u001b[0;32mpass\u001b[0m\u001b[0;34m\u001b[0m\u001b[0m\n\u001b[0;32m-> 1340\u001b[0;31m       \u001b[0;32mraise\u001b[0m \u001b[0mtype\u001b[0m\u001b[0;34m(\u001b[0m\u001b[0me\u001b[0m\u001b[0;34m)\u001b[0m\u001b[0;34m(\u001b[0m\u001b[0mnode_def\u001b[0m\u001b[0;34m,\u001b[0m \u001b[0mop\u001b[0m\u001b[0;34m,\u001b[0m \u001b[0mmessage\u001b[0m\u001b[0;34m)\u001b[0m\u001b[0;34m\u001b[0m\u001b[0m\n\u001b[0m\u001b[1;32m   1341\u001b[0m \u001b[0;34m\u001b[0m\u001b[0m\n",
      "\u001b[0;31mInvalidArgumentError\u001b[0m: You must feed a value for placeholder tensor 'image_input' with dtype float\n\t [[Node: image_input = Placeholder[dtype=DT_FLOAT, shape=[], _device=\"/job:localhost/replica:0/task:0/device:GPU:0\"]()]]\n\nCaused by op 'image_input', defined at:\n  File \"/home/noodles/.conda/envs/turntable/lib/python3.6/runpy.py\", line 193, in _run_module_as_main\n    \"__main__\", mod_spec)\n  File \"/home/noodles/.conda/envs/turntable/lib/python3.6/runpy.py\", line 85, in _run_code\n    exec(code, run_globals)\n  File \"/home/noodles/.conda/envs/turntable/lib/python3.6/site-packages/ipykernel_launcher.py\", line 16, in <module>\n    app.launch_new_instance()\n  File \"/home/noodles/.conda/envs/turntable/lib/python3.6/site-packages/traitlets/config/application.py\", line 658, in launch_instance\n    app.start()\n  File \"/home/noodles/.conda/envs/turntable/lib/python3.6/site-packages/ipykernel/kernelapp.py\", line 486, in start\n    self.io_loop.start()\n  File \"/home/noodles/.conda/envs/turntable/lib/python3.6/site-packages/tornado/platform/asyncio.py\", line 127, in start\n    self.asyncio_loop.run_forever()\n  File \"/home/noodles/.conda/envs/turntable/lib/python3.6/asyncio/base_events.py\", line 422, in run_forever\n    self._run_once()\n  File \"/home/noodles/.conda/envs/turntable/lib/python3.6/asyncio/base_events.py\", line 1432, in _run_once\n    handle._run()\n  File \"/home/noodles/.conda/envs/turntable/lib/python3.6/asyncio/events.py\", line 145, in _run\n    self._callback(*self._args)\n  File \"/home/noodles/.conda/envs/turntable/lib/python3.6/site-packages/tornado/platform/asyncio.py\", line 117, in _handle_events\n    handler_func(fileobj, events)\n  File \"/home/noodles/.conda/envs/turntable/lib/python3.6/site-packages/tornado/stack_context.py\", line 276, in null_wrapper\n    return fn(*args, **kwargs)\n  File \"/home/noodles/.conda/envs/turntable/lib/python3.6/site-packages/zmq/eventloop/zmqstream.py\", line 450, in _handle_events\n    self._handle_recv()\n  File \"/home/noodles/.conda/envs/turntable/lib/python3.6/site-packages/zmq/eventloop/zmqstream.py\", line 480, in _handle_recv\n    self._run_callback(callback, msg)\n  File \"/home/noodles/.conda/envs/turntable/lib/python3.6/site-packages/zmq/eventloop/zmqstream.py\", line 432, in _run_callback\n    callback(*args, **kwargs)\n  File \"/home/noodles/.conda/envs/turntable/lib/python3.6/site-packages/tornado/stack_context.py\", line 276, in null_wrapper\n    return fn(*args, **kwargs)\n  File \"/home/noodles/.conda/envs/turntable/lib/python3.6/site-packages/ipykernel/kernelbase.py\", line 283, in dispatcher\n    return self.dispatch_shell(stream, msg)\n  File \"/home/noodles/.conda/envs/turntable/lib/python3.6/site-packages/ipykernel/kernelbase.py\", line 233, in dispatch_shell\n    handler(stream, idents, msg)\n  File \"/home/noodles/.conda/envs/turntable/lib/python3.6/site-packages/ipykernel/kernelbase.py\", line 399, in execute_request\n    user_expressions, allow_stdin)\n  File \"/home/noodles/.conda/envs/turntable/lib/python3.6/site-packages/ipykernel/ipkernel.py\", line 208, in do_execute\n    res = shell.run_cell(code, store_history=store_history, silent=silent)\n  File \"/home/noodles/.conda/envs/turntable/lib/python3.6/site-packages/ipykernel/zmqshell.py\", line 537, in run_cell\n    return super(ZMQInteractiveShell, self).run_cell(*args, **kwargs)\n  File \"/home/noodles/.conda/envs/turntable/lib/python3.6/site-packages/IPython/core/interactiveshell.py\", line 2662, in run_cell\n    raw_cell, store_history, silent, shell_futures)\n  File \"/home/noodles/.conda/envs/turntable/lib/python3.6/site-packages/IPython/core/interactiveshell.py\", line 2785, in _run_cell\n    interactivity=interactivity, compiler=compiler, result=result)\n  File \"/home/noodles/.conda/envs/turntable/lib/python3.6/site-packages/IPython/core/interactiveshell.py\", line 2903, in run_ast_nodes\n    if self.run_code(code, result):\n  File \"/home/noodles/.conda/envs/turntable/lib/python3.6/site-packages/IPython/core/interactiveshell.py\", line 2963, in run_code\n    exec(code_obj, self.user_global_ns, self.user_ns)\n  File \"<ipython-input-9-41f627089c73>\", line 2, in <module>\n    run()\n  File \"<ipython-input-8-bd527b1adc70>\", line 3, in run\n    image_input, keep_prob, layer3, layer4, layer7 = load_vgg(sess, VGG_PATH)\n  File \"<ipython-input-7-1264ee892e98>\", line 12, in load_vgg\n    model = wtf.saved_model.loader.load(sess, ['vgg16'], vgg_path)\n  File \"/home/noodles/.conda/envs/turntable/lib/python3.6/site-packages/tensorflow/python/saved_model/loader_impl.py\", line 219, in load\n    saver = tf_saver.import_meta_graph(meta_graph_def_to_load, **saver_kwargs)\n  File \"/home/noodles/.conda/envs/turntable/lib/python3.6/site-packages/tensorflow/python/training/saver.py\", line 1927, in import_meta_graph\n    **kwargs)\n  File \"/home/noodles/.conda/envs/turntable/lib/python3.6/site-packages/tensorflow/python/framework/meta_graph.py\", line 741, in import_scoped_meta_graph\n    producer_op_list=producer_op_list)\n  File \"/home/noodles/.conda/envs/turntable/lib/python3.6/site-packages/tensorflow/python/util/deprecation.py\", line 432, in new_func\n    return func(*args, **kwargs)\n  File \"/home/noodles/.conda/envs/turntable/lib/python3.6/site-packages/tensorflow/python/framework/importer.py\", line 577, in import_graph_def\n    op_def=op_def)\n  File \"/home/noodles/.conda/envs/turntable/lib/python3.6/site-packages/tensorflow/python/framework/ops.py\", line 3290, in create_op\n    op_def=op_def)\n  File \"/home/noodles/.conda/envs/turntable/lib/python3.6/site-packages/tensorflow/python/framework/ops.py\", line 1654, in __init__\n    self._traceback = self._graph._extract_stack()  # pylint: disable=protected-access\n\nInvalidArgumentError (see above for traceback): You must feed a value for placeholder tensor 'image_input' with dtype float\n\t [[Node: image_input = Placeholder[dtype=DT_FLOAT, shape=[], _device=\"/job:localhost/replica:0/task:0/device:GPU:0\"]()]]\n",
      "\nDuring handling of the above exception, another exception occurred:\n",
      "\u001b[0;31mNameError\u001b[0m                                 Traceback (most recent call last)",
      "\u001b[0;32m<ipython-input-9-41f627089c73>\u001b[0m in \u001b[0;36m<module>\u001b[0;34m()\u001b[0m\n\u001b[1;32m      1\u001b[0m \u001b[0;32mif\u001b[0m \u001b[0m__name__\u001b[0m \u001b[0;34m==\u001b[0m \u001b[0;34m'__main__'\u001b[0m\u001b[0;34m:\u001b[0m\u001b[0;34m\u001b[0m\u001b[0m\n\u001b[0;32m----> 2\u001b[0;31m     \u001b[0mrun\u001b[0m\u001b[0;34m(\u001b[0m\u001b[0;34m)\u001b[0m\u001b[0;34m\u001b[0m\u001b[0m\n\u001b[0m",
      "\u001b[0;32m<ipython-input-8-bd527b1adc70>\u001b[0m in \u001b[0;36mrun\u001b[0;34m()\u001b[0m\n\u001b[1;32m      9\u001b[0m         train_nn(sess, 1, 1,\n\u001b[1;32m     10\u001b[0m                  \u001b[0mtrain_op\u001b[0m\u001b[0;34m,\u001b[0m \u001b[0mcross_entropy_loss\u001b[0m\u001b[0;34m,\u001b[0m \u001b[0mimage_input\u001b[0m\u001b[0;34m,\u001b[0m\u001b[0;34m\u001b[0m\u001b[0m\n\u001b[0;32m---> 11\u001b[0;31m                  correct_label, keep_prob, learning_rate)\n\u001b[0m",
      "\u001b[0;32m<ipython-input-7-1264ee892e98>\u001b[0m in \u001b[0;36mtrain_nn\u001b[0;34m(sess, epochs, batch_size, train_op, cross_entropy_loss, input_image, correct_label, keep_prob, learning_rate)\u001b[0m\n\u001b[1;32m     69\u001b[0m                                    feed_dict={keep_prob: keep_prob_value, learning_rate:learning_rate_value})\n\u001b[1;32m     70\u001b[0m                 \u001b[0mtotal_loss\u001b[0m \u001b[0;34m+=\u001b[0m \u001b[0mloss\u001b[0m\u001b[0;34m\u001b[0m\u001b[0m\n\u001b[0;32m---> 71\u001b[0;31m         \u001b[0;32mexcept\u001b[0m \u001b[0mtf\u001b[0m\u001b[0;34m.\u001b[0m\u001b[0merrors\u001b[0m\u001b[0;34m.\u001b[0m\u001b[0mOutOfRangeError\u001b[0m\u001b[0;34m:\u001b[0m\u001b[0;34m\u001b[0m\u001b[0m\n\u001b[0m\u001b[1;32m     72\u001b[0m             \u001b[0;32mpass\u001b[0m\u001b[0;34m\u001b[0m\u001b[0m\n\u001b[1;32m     73\u001b[0m         \u001b[0;31m# # # # # # # # # # # # # # # # # # # # # # # # # # # # # # # #\u001b[0m\u001b[0;34m\u001b[0m\u001b[0;34m\u001b[0m\u001b[0m\n",
      "\u001b[0;31mNameError\u001b[0m: name 'tf' is not defined"
     ]
    }
   ],
   "source": [
    "if __name__ == '__main__':\n",
    "    run()"
   ]
  },
  {
   "cell_type": "code",
   "execution_count": null,
   "metadata": {},
   "outputs": [],
   "source": []
  }
 ],
 "metadata": {
  "kernelspec": {
   "display_name": "Python 3",
   "language": "python",
   "name": "python3"
  },
  "language_info": {
   "codemirror_mode": {
    "name": "ipython",
    "version": 3
   },
   "file_extension": ".py",
   "mimetype": "text/x-python",
   "name": "python",
   "nbconvert_exporter": "python",
   "pygments_lexer": "ipython3",
   "version": "3.6.5"
  }
 },
 "nbformat": 4,
 "nbformat_minor": 2
}
